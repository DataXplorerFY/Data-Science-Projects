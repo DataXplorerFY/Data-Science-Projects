{
 "cells": [
  {
   "cell_type": "markdown",
   "id": "dcfb868d",
   "metadata": {},
   "source": [
    "# Python Assignment Tasks"
   ]
  },
  {
   "cell_type": "raw",
   "id": "7f6956b1",
   "metadata": {},
   "source": [
    "# Implement a function that takes a list of integers as input and returns the maximum subarray sum. A subarray is defined as a contiguous sequence of elements from the original list. The function should handle both positive and negative numbers.\n",
    "\n",
    "For example, given the input list: [-2, 1, -3, 4, -1, 2, 1, -5, 4], the maximum subarray sum is 6, which corresponds to the subarray [4, -1, 2, 1].\n",
    "\n",
    "Your task is to write a Python function that solves this problem and returns the maximum subarray sum. You can use any suitable algorithm or approach to solve the problem."
   ]
  },
  {
   "cell_type": "code",
   "execution_count": 7,
   "id": "b71da81a",
   "metadata": {},
   "outputs": [],
   "source": [
    "def max_subarray_sum(nums):\n",
    "    \n",
    "    current_sum = max_sum = nums[0]    \n",
    "    for num in nums[1:]:       \n",
    "        current_sum = max(num, current_sum + num)        \n",
    "        max_sum = max(max_sum, current_sum)\n",
    "    \n",
    "    return max_sum  "
   ]
  },
  {
   "cell_type": "code",
   "execution_count": 8,
   "id": "d6aae49c",
   "metadata": {},
   "outputs": [
    {
     "name": "stdout",
     "output_type": "stream",
     "text": [
      "Maximum Subarray Sum: 6\n"
     ]
    }
   ],
   "source": [
    "nums = [-2, 1, -3, 4, -1, 2, 1, -5, 4]\n",
    "max_sum = max_subarray_sum(nums)\n",
    "print(\"Maximum Subarray Sum:\", max_sum)"
   ]
  },
  {
   "cell_type": "markdown",
   "id": "89274620",
   "metadata": {},
   "source": [
    "# Implement a function that takes two matrices as input and returns their product. The matrices are represented as nested lists, and you should handle the case where the dimensions of the matrices are compatible for multiplication."
   ]
  },
  {
   "cell_type": "code",
   "execution_count": 9,
   "id": "2effe8cc",
   "metadata": {},
   "outputs": [],
   "source": [
    "def matrix_multiplication(matrix1, matrix2):\n",
    "  \n",
    "    if len(matrix1[0]) != len(matrix2):\n",
    "        raise ValueError(\"Incompatible matrix dimensions\")\n",
    "\n",
    "    \n",
    "    result = [[0] * len(matrix2[0]) for _ in range(len(matrix1))]\n",
    "\n",
    " \n",
    "    for i in range(len(matrix1)):\n",
    "        for j in range(len(matrix2[0])):\n",
    "            for k in range(len(matrix2)):\n",
    "                result[i][j] += matrix1[i][k] * matrix2[k][j]\n",
    "\n",
    "    return result\n",
    "\n"
   ]
  },
  {
   "cell_type": "code",
   "execution_count": 10,
   "id": "21022e50",
   "metadata": {},
   "outputs": [
    {
     "name": "stdout",
     "output_type": "stream",
     "text": [
      "Matrix Multiplication Result:\n",
      "[58, 64]\n",
      "[139, 154]\n"
     ]
    }
   ],
   "source": [
    "matrix1 = [[1, 2, 3], [4, 5, 6]]\n",
    "matrix2 = [[7, 8], [9, 10], [11, 12]]\n",
    "result = matrix_multiplication(matrix1, matrix2)\n",
    "print(\"Matrix Multiplication Result:\")\n",
    "for row in result:\n",
    "    print(row)"
   ]
  },
  {
   "cell_type": "markdown",
   "id": "e045fa6b",
   "metadata": {},
   "source": [
    "# Longest Common Subsequence"
   ]
  },
  {
   "cell_type": "code",
   "execution_count": 11,
   "id": "b5ea3f53",
   "metadata": {},
   "outputs": [
    {
     "name": "stdout",
     "output_type": "stream",
     "text": [
      "Length of Longest Common Subsequence: 3\n"
     ]
    }
   ],
   "source": [
    "def longest_common_subsequence(text1, text2):\n",
    "    \n",
    "    dp = [[0] * (len(text2) + 1) for _ in range(len(text1) + 1)]\n",
    "\n",
    "  \n",
    "    for i in range(1, len(text1) + 1):\n",
    "        for j in range(1, len(text2) + 1):\n",
    "            if text1[i - 1] == text2[j - 1]:\n",
    "                dp[i][j] = dp[i - 1][j - 1] + 1\n",
    "            else:\n",
    "                dp[i][j] = max(dp[i - 1][j], dp[i][j - 1])\n",
    "\n",
    "    return dp[-1][-1]\n",
    "\n",
    "\n",
    "text1 = \"ABCDGH\"\n",
    "text2 = \"AEDFHR\"\n",
    "length = longest_common_subsequence(text1, text2)\n",
    "print(\"Length of Longest Common Subsequence:\", length)\n"
   ]
  },
  {
   "cell_type": "markdown",
   "id": "ebbde4c0",
   "metadata": {},
   "source": [
    "# Word Frequency Count"
   ]
  },
  {
   "cell_type": "code",
   "execution_count": 13,
   "id": "b8e0cffb",
   "metadata": {},
   "outputs": [
    {
     "name": "stdout",
     "output_type": "stream",
     "text": [
      "Word Frequency Count:\n",
      "hello : 2\n",
      "world : 1\n",
      "this : 1\n",
      "is : 1\n",
      "a : 1\n",
      "test : 1\n",
      "again : 1\n"
     ]
    }
   ],
   "source": [
    "import re\n",
    "from collections import defaultdict\n",
    "\n",
    "def word_frequency_count(document):\n",
    "    \n",
    "    document = re.sub(r'[^\\w\\s]', '', document)\n",
    "    document = document.lower()\n",
    "\n",
    "  \n",
    "    frequency_count = defaultdict(int)\n",
    "    for word in document.split():\n",
    "        frequency_count[word] += 1\n",
    "\n",
    "    return dict(frequency_count)\n",
    "\n",
    "text = \"Hello world. This is a test. Hello again.\"\n",
    "frequency = word_frequency_count(text)\n",
    "print(\"Word Frequency Count:\")\n",
    "for word, count in frequency.items():\n",
    "    print(word, \":\", count)\n"
   ]
  },
  {
   "cell_type": "code",
   "execution_count": null,
   "id": "e170a8aa",
   "metadata": {},
   "outputs": [],
   "source": []
  }
 ],
 "metadata": {
  "kernelspec": {
   "display_name": "Python 3 (ipykernel)",
   "language": "python",
   "name": "python3"
  },
  "language_info": {
   "codemirror_mode": {
    "name": "ipython",
    "version": 3
   },
   "file_extension": ".py",
   "mimetype": "text/x-python",
   "name": "python",
   "nbconvert_exporter": "python",
   "pygments_lexer": "ipython3",
   "version": "3.9.7"
  }
 },
 "nbformat": 4,
 "nbformat_minor": 5
}
